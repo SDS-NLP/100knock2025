{
 "cells": [
  {
   "cell_type": "code",
   "execution_count": 2,
   "metadata": {},
   "outputs": [
    {
     "name": "stdout",
     "output_type": "stream",
     "text": [
      "Mary F 7065 1880\n",
      "\n",
      "Anna F 2604 1880\n",
      "\n",
      "Emma F 2003 1880\n",
      "\n",
      "Elizabeth F 1939 1880\n",
      "\n",
      "Minnie F 1746 1880\n",
      "\n",
      "Margaret F 1578 1880\n",
      "\n",
      "Ida F 1472 1880\n",
      "\n",
      "Alice F 1414 1880\n",
      "\n",
      "Bertha F 1320 1880\n",
      "\n",
      "Sarah F 1288 1880\n",
      "\n"
     ]
    }
   ],
   "source": [
    "try:\n",
    "    with open('./popular-names.txt', 'r') as f:\n",
    "        lines = f.readlines()\n",
    "except FileNotFoundError:\n",
    "    print(\"Error: popular-names.txt not found.\")\n",
    "    lines = []\n",
    "\n",
    "for i in range(10):\n",
    "    print(lines[i].replace('\\t', ' '))"
   ]
  },
  {
   "cell_type": "code",
   "execution_count": null,
   "metadata": {},
   "outputs": [],
   "source": [
    "head -n 10 hiro/chapter02/popular-names.txt | tr '\\t' ' '"
   ]
  },
  {
   "cell_type": "markdown",
   "metadata": {},
   "source": [
    "Mary F 7065 1880\n",
    "Anna F 2604 1880\n",
    "Emma F 2003 1880\n",
    "Elizabeth F 1939 1880\n",
    "Minnie F 1746 1880\n",
    "Margaret F 1578 1880\n",
    "Ida F 1472 1880\n",
    "Alice F 1414 1880\n",
    "Bertha F 1320 1880\n",
    "Sarah F 1288 1880"
   ]
  }
 ],
 "metadata": {
  "kernelspec": {
   "display_name": "Python 3",
   "language": "python",
   "name": "python3"
  },
  "language_info": {
   "codemirror_mode": {
    "name": "ipython",
    "version": 3
   },
   "file_extension": ".py",
   "mimetype": "text/x-python",
   "name": "python",
   "nbconvert_exporter": "python",
   "pygments_lexer": "ipython3",
   "version": "3.11.3"
  }
 },
 "nbformat": 4,
 "nbformat_minor": 2
}
