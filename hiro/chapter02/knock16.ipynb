{
 "cells": [
  {
   "cell_type": "code",
   "execution_count": 15,
   "metadata": {},
   "outputs": [
    {
     "name": "stdout",
     "output_type": "stream",
     "text": [
      "Done:)\n"
     ]
    }
   ],
   "source": [
    "import random\n",
    "import os\n",
    "\n",
    "folder: str = 'knock16'\n",
    "input_filename: str = './popular-names.txt'\n",
    "output_filename: str = f'./{folder}/shuffled-popular-names-python.txt'\n",
    "os.makedirs(folder, exist_ok=True)\n",
    "\n",
    "try:\n",
    "    with open(input_filename, 'r') as i:\n",
    "        lines = i.readlines() # 1st step: Read lines\n",
    "except FileNotFoundError:\n",
    "    print(f\"Error: '{input_filename}' file not found.\")\n",
    "    lines = []\n",
    "\n",
    "random.shuffle(lines) # 2nd step: Shuffle lines\n",
    "\n",
    "with open(output_filename, 'w') as o:\n",
    "    o.writelines(lines) # 3rd step: Write lines\n",
    "\n",
    "print(\"Done:)\")"
   ]
  },
  {
   "cell_type": "code",
   "execution_count": null,
   "metadata": {},
   "outputs": [],
   "source": [
    "brew install coreutils # It's for shuf command\n",
    "mkdir -p hiro/chapter02/knock16 # '-p' is for avoiding errors\n",
    "shuf hiro/chapter02/popular-names.txt > hiro/chapter02/knock16/shuffled-popular-names-unix.txt"
   ]
  },
  {
   "cell_type": "code",
   "execution_count": 16,
   "metadata": {},
   "outputs": [
    {
     "name": "stdout",
     "output_type": "stream",
     "text": [
      "This is the verification of \"./popular-names.txt\" file.\n",
      "The length is 2780.\n",
      "The first line is ['Mary', 'F', '7065', '1880'].\n",
      "--------------------------------------------------\n",
      "This is the verification of \"./knock16/shuffled-popular-names-python.txt\" file.\n",
      "The length is 2780.\n",
      "The first line is ['Jessica', 'F', '51543', '1988'].\n",
      "--------------------------------------------------\n",
      "This is the verification of \"./knock16/shuffled-popular-names-unix.txt\" file.\n",
      "The length is 2780.\n",
      "The first line is ['Joan', 'F', '15479', '1930'].\n",
      "--------------------------------------------------\n"
     ]
    }
   ],
   "source": [
    "# Verification Code\n",
    "filenames = []\n",
    "filenames.append('./popular-names.txt')\n",
    "filenames.append('./' + folder + '/shuffled-popular-names-python.txt')\n",
    "filenames.append('./' + folder + '/shuffled-popular-names-unix.txt')\n",
    "\n",
    "for filename in filenames:\n",
    "    with open(filename, 'r') as f:\n",
    "        lines = f.readlines()\n",
    "        line = lines[0].replace('\\t', ' ').split()\n",
    "        print(f'This is the verification of \"{filename}\" file.')\n",
    "        print(f\"The length is {len(lines)}.\")\n",
    "        print(f\"The first line is {line}.\")\n",
    "        print(\"--------------------------------------------------\")"
   ]
  }
 ],
 "metadata": {
  "kernelspec": {
   "display_name": "Python 3",
   "language": "python",
   "name": "python3"
  },
  "language_info": {
   "codemirror_mode": {
    "name": "ipython",
    "version": 3
   },
   "file_extension": ".py",
   "mimetype": "text/x-python",
   "name": "python",
   "nbconvert_exporter": "python",
   "pygments_lexer": "ipython3",
   "version": "3.11.3"
  }
 },
 "nbformat": 4,
 "nbformat_minor": 2
}
