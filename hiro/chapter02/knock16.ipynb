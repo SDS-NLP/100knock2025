{
 "cells": [
  {
   "cell_type": "code",
   "execution_count": 19,
   "metadata": {},
   "outputs": [
    {
     "name": "stdout",
     "output_type": "stream",
     "text": [
      "Done:)\n"
     ]
    }
   ],
   "source": [
    "import random\n",
    "import os\n",
    "\n",
    "folder = 'knock16'\n",
    "input_filename = './popular-names.txt'\n",
    "output_filename = './' + folder + '/shuffled-popular-names-python.txt'\n",
    "os.makedirs(folder, exist_ok=True)\n",
    "\n",
    "try:\n",
    "    with open(input_filename, 'r') as i:\n",
    "        lines = i.readlines() # step 1: Read lines\n",
    "except FileNotFoundError:\n",
    "    print(f\"Error: {input_filename} not found.\")\n",
    "    lines = []\n",
    "\n",
    "random.shuffle(lines) # step 2: Shuffle lines\n",
    "\n",
    "with open(output_filename, 'w') as o:\n",
    "    o.writelines(lines) # step 3: Write lines\n",
    "\n",
    "print(\"Done:)\")"
   ]
  },
  {
   "cell_type": "code",
   "execution_count": null,
   "metadata": {},
   "outputs": [],
   "source": [
    "mkdir -p hiro/chapter02/knock16 # '-p' is for avoiding errors\n",
    "shuf hiro/chapter02/popular-names.txt > hiro/chapter02/knock16/shuffled-popular-names-unix.txt"
   ]
  },
  {
   "cell_type": "code",
   "execution_count": 33,
   "metadata": {},
   "outputs": [
    {
     "name": "stdout",
     "output_type": "stream",
     "text": [
      "This is the verification of \"./popular-names.txt\" file.\n",
      "The length is 2780.\n",
      "The first line is ['Mary', 'F', '7065', '1880'].\n",
      "--------------------------------------------------\n",
      "This is the verification of \"./knock16/shuffled-popular-names-python.txt\" file.\n",
      "The length is 2780.\n",
      "The first line is ['James', 'M', '5097', '1890'].\n",
      "--------------------------------------------------\n",
      "This is the verification of \"./knock16/shuffled-popular-names-unix.txt\" file.\n",
      "The length is 2780.\n",
      "The first line is ['Patricia', 'F', '29706', '1939'].\n",
      "--------------------------------------------------\n"
     ]
    }
   ],
   "source": [
    "# Verification Code\n",
    "filenames = []\n",
    "filenames.append('./popular-names.txt')\n",
    "filenames.append('./' + folder + '/shuffled-popular-names-python.txt')\n",
    "filenames.append('./' + folder + '/shuffled-popular-names-unix.txt')\n",
    "\n",
    "for filename in filenames:\n",
    "    with open(filename, 'r') as f:\n",
    "        lines = f.readlines()\n",
    "        line = lines[0].replace('\\t', ' ').split()\n",
    "        print(f'This is the verification of \"{filename}\" file.')\n",
    "        print(f\"The length is {len(lines)}.\")\n",
    "        print(f\"The first line is {line}.\")\n",
    "        print(\"--------------------------------------------------\")"
   ]
  }
 ],
 "metadata": {
  "kernelspec": {
   "display_name": "Python 3",
   "language": "python",
   "name": "python3"
  },
  "language_info": {
   "codemirror_mode": {
    "name": "ipython",
    "version": 3
   },
   "file_extension": ".py",
   "mimetype": "text/x-python",
   "name": "python",
   "nbconvert_exporter": "python",
   "pygments_lexer": "ipython3",
   "version": "3.11.3"
  }
 },
 "nbformat": 4,
 "nbformat_minor": 2
}
