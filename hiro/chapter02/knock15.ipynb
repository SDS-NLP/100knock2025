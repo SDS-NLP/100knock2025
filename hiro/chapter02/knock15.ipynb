{
 "cells": [
  {
   "cell_type": "code",
   "execution_count": 4,
   "metadata": {},
   "outputs": [
    {
     "name": "stdout",
     "output_type": "stream",
     "text": [
      "Done:)\n"
     ]
    }
   ],
   "source": [
    "import os\n",
    "\n",
    "output_dir = 'knock15_python'\n",
    "os.makedirs(output_dir, exist_ok=True)\n",
    "\n",
    "try:\n",
    "    n_str = input(\"n -> \")\n",
    "    n = int(n_str)\n",
    "except ValueError:\n",
    "    print(\"Error: Please enter a valid integer for N.\")\n",
    "    n = 10\n",
    "\n",
    "try:\n",
    "    with open('./popular-names.txt', 'r') as f:\n",
    "        lines = f.readlines()\n",
    "except FileNotFoundError:\n",
    "    print(\"Error: popular-names.txt not found.\")\n",
    "    lines = []\n",
    "\n",
    "total_lines = len(lines)\n",
    "lines_per_file = total_lines // n\n",
    "remainder = total_lines % n\n",
    "start_index = 0\n",
    "\n",
    "for i in range(n):\n",
    "    chunk_size = lines_per_file + (1 if i < remainder else 0)\n",
    "    end_index = start_index + chunk_size\n",
    "\n",
    "    output_filename = os.path.join(output_dir, f'part_{i+1:02d}.txt')\n",
    "\n",
    "    with open(output_filename, 'w') as o:\n",
    "        o.writelines(lines[start_index:end_index])\n",
    "\n",
    "    start_index = end_index\n",
    "\n",
    "print(\"Done:)\")"
   ]
  },
  {
   "cell_type": "code",
   "execution_count": null,
   "metadata": {},
   "outputs": [],
   "source": [
    "mkdir -p hiro/chapter02/knock15_unix\n",
    "split -n 10 -d -a 2 hiro/chapter02/popular-names.txt hiro/chapter02/knock15_unix/part_"
   ]
  }
 ],
 "metadata": {
  "kernelspec": {
   "display_name": "Python 3",
   "language": "python",
   "name": "python3"
  },
  "language_info": {
   "codemirror_mode": {
    "name": "ipython",
    "version": 3
   },
   "file_extension": ".py",
   "mimetype": "text/x-python",
   "name": "python",
   "nbconvert_exporter": "python",
   "pygments_lexer": "ipython3",
   "version": "3.11.3"
  }
 },
 "nbformat": 4,
 "nbformat_minor": 2
}
