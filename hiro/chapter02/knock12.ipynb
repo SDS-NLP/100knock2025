{
 "cells": [
  {
   "cell_type": "code",
   "execution_count": 2,
   "metadata": {},
   "outputs": [
    {
     "name": "stdout",
     "output_type": "stream",
     "text": [
      "Liam\tM\t19837\t2018\n",
      "\n",
      "Noah\tM\t18267\t2018\n",
      "\n",
      "William\tM\t14516\t2018\n",
      "\n",
      "James\tM\t13525\t2018\n",
      "\n",
      "Oliver\tM\t13389\t2018\n",
      "\n",
      "Benjamin\tM\t13381\t2018\n",
      "\n",
      "Elijah\tM\t12886\t2018\n",
      "\n",
      "Lucas\tM\t12585\t2018\n",
      "\n",
      "Mason\tM\t12435\t2018\n",
      "\n",
      "Logan\tM\t12352\t2018\n",
      "\n"
     ]
    }
   ],
   "source": [
    "try:\n",
    "    with open('./popular-names.txt', 'r') as f:\n",
    "        lines = f.readlines()\n",
    "except FileNotFoundError:\n",
    "    print(\"Error: popular-names.txt not found.\")\n",
    "    lines = []\n",
    "\n",
    "num = len(lines)\n",
    "for i in range(10):\n",
    "    print(lines[num-10+i])"
   ]
  },
  {
   "cell_type": "code",
   "execution_count": null,
   "metadata": {},
   "outputs": [],
   "source": [
    "tail -n 10 hiro/chapter02/popular-names.txt"
   ]
  },
  {
   "cell_type": "markdown",
   "metadata": {},
   "source": [
    "Liam    M       19837   2018\n",
    "Noah    M       18267   2018\n",
    "William M       14516   2018\n",
    "James   M       13525   2018\n",
    "Oliver  M       13389   2018\n",
    "Benjamin        M       13381   2018\n",
    "Elijah  M       12886   2018\n",
    "Lucas   M       12585   2018\n",
    "Mason   M       12435   2018\n",
    "Logan   M       12352   2018"
   ]
  }
 ],
 "metadata": {
  "kernelspec": {
   "display_name": "Python 3",
   "language": "python",
   "name": "python3"
  },
  "language_info": {
   "codemirror_mode": {
    "name": "ipython",
    "version": 3
   },
   "file_extension": ".py",
   "mimetype": "text/x-python",
   "name": "python",
   "nbconvert_exporter": "python",
   "pygments_lexer": "ipython3",
   "version": "3.11.3"
  }
 },
 "nbformat": 4,
 "nbformat_minor": 2
}
