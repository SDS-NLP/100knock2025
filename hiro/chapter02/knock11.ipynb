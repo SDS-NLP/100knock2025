{
 "cells": [
  {
   "cell_type": "code",
   "execution_count": 3,
   "metadata": {},
   "outputs": [
    {
     "name": "stdout",
     "output_type": "stream",
     "text": [
      "Mary\tF\t7065\t1880\n",
      "\n",
      "Anna\tF\t2604\t1880\n",
      "\n",
      "Emma\tF\t2003\t1880\n",
      "\n",
      "Elizabeth\tF\t1939\t1880\n",
      "\n",
      "Minnie\tF\t1746\t1880\n",
      "\n",
      "Margaret\tF\t1578\t1880\n",
      "\n",
      "Ida\tF\t1472\t1880\n",
      "\n",
      "Alice\tF\t1414\t1880\n",
      "\n",
      "Bertha\tF\t1320\t1880\n",
      "\n",
      "Sarah\tF\t1288\t1880\n",
      "\n"
     ]
    }
   ],
   "source": [
    "try:\n",
    "    with open('./popular-names.txt', 'r') as f:\n",
    "        lines = f.readlines()\n",
    "except FileNotFoundError:\n",
    "    print(\"Error: popular-names.txt not found.\")\n",
    "    lines = []\n",
    "\n",
    "for i in range(10):\n",
    "    print(lines[i])"
   ]
  },
  {
   "cell_type": "code",
   "execution_count": null,
   "metadata": {},
   "outputs": [],
   "source": [
    "head -n 10 hiro/chapter02/popular-names.txt"
   ]
  },
  {
   "cell_type": "markdown",
   "metadata": {},
   "source": [
    "Mary    F       7065    1880\n",
    "Anna    F       2604    1880\n",
    "Emma    F       2003    1880\n",
    "Elizabeth       F       1939    1880\n",
    "Minnie  F       1746    1880\n",
    "Margaret        F       1578    1880\n",
    "Ida     F       1472    1880\n",
    "Alice   F       1414    1880\n",
    "Bertha  F       1320    1880\n",
    "Sarah   F       1288    1880"
   ]
  }
 ],
 "metadata": {
  "kernelspec": {
   "display_name": "Python 3",
   "language": "python",
   "name": "python3"
  },
  "language_info": {
   "codemirror_mode": {
    "name": "ipython",
    "version": 3
   },
   "file_extension": ".py",
   "mimetype": "text/x-python",
   "name": "python",
   "nbconvert_exporter": "python",
   "pygments_lexer": "ipython3",
   "version": "3.11.3"
  }
 },
 "nbformat": 4,
 "nbformat_minor": 2
}
