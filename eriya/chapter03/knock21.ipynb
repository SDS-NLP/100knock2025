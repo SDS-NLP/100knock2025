{
 "cells": [
  {
   "cell_type": "code",
   "execution_count": 4,
   "id": "2b2e8a4a",
   "metadata": {},
   "outputs": [
    {
     "name": "stdout",
     "output_type": "stream",
     "text": [
      "--- [[Category:…]] を含む行（単純検索） ---\n",
      "[[Category:イギリス|*]]\n",
      "[[Category:イギリス連邦加盟国]]\n",
      "[[Category:英連邦王国|*]]\n",
      "[[Category:G8加盟国]]\n",
      "[[Category:欧州連合加盟国|元]]\n",
      "[[Category:海洋国家]]\n",
      "[[Category:現存する君主国]]\n",
      "[[Category:島国]]\n",
      "[[Category:1801年に成立した国家・領域]]\n",
      "\n",
      "--- [[Category:…]] を含む行（正規表現） ---\n",
      "[[Category:イギリス|*]]\n",
      "[[Category:イギリス連邦加盟国]]\n",
      "[[Category:英連邦王国|*]]\n",
      "[[Category:G8加盟国]]\n",
      "[[Category:欧州連合加盟国|元]]\n",
      "[[Category:海洋国家]]\n",
      "[[Category:現存する君主国]]\n",
      "[[Category:島国]]\n",
      "[[Category:1801年に成立した国家・領域]]\n"
     ]
    }
   ],
   "source": [
    "import gzip\n",
    "import json\n",
    "import re\n",
    "\n",
    "# —————————————————————————\n",
    "# 1. Wikipedia JSON ファイルの読み込み\n",
    "# —————————————————————————\n",
    "path = 'jawiki-country.json.gz'\n",
    "with gzip.open(path, 'rt', encoding='utf-8') as f:\n",
    "    text = None\n",
    "    for line in f:\n",
    "        article = json.loads(line)\n",
    "        if article['title'] == 'イギリス':\n",
    "            text = article['text']\n",
    "            break\n",
    "\n",
    "if text is None:\n",
    "    raise ValueError('「イギリス」記事が見つかりませんでした。')\n",
    "\n",
    "# —————————————————————————\n",
    "# 2. カテゴリ宣言行の抽出\n",
    "# —————————————————————————\n",
    "# 本文を行ごとに分割\n",
    "lines = text.split('\\n')\n",
    "\n",
    "# 方法①：単純な文字列検索\n",
    "print('--- [[Category:…]] を含む行（単純検索） ---')\n",
    "for line in lines:\n",
    "    if '[[Category:' in line:\n",
    "        print(line)\n",
    "\n",
    "# 方法②：正規表現でマッチング\n",
    "print('\\n--- [[Category:…]] を含む行（正規表現） ---')\n",
    "pattern = re.compile(r'\\[\\[Category:.*?\\]\\]')\n",
    "for line in lines:\n",
    "    if pattern.search(line):\n",
    "        print(line)\n",
    "\n"
   ]
  },
  {
   "cell_type": "code",
   "execution_count": null,
   "id": "5e2e24df",
   "metadata": {},
   "outputs": [],
   "source": []
  }
 ],
 "metadata": {
  "kernelspec": {
   "display_name": "python-env",
   "language": "python",
   "name": "python3"
  },
  "language_info": {
   "codemirror_mode": {
    "name": "ipython",
    "version": 3
   },
   "file_extension": ".py",
   "mimetype": "text/x-python",
   "name": "python",
   "nbconvert_exporter": "python",
   "pygments_lexer": "ipython3",
   "version": "3.12.5"
  }
 },
 "nbformat": 4,
 "nbformat_minor": 5
}
