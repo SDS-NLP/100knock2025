{
 "cells": [
  {
   "cell_type": "code",
   "execution_count": 5,
   "id": "cdcbbff7",
   "metadata": {},
   "outputs": [
    {
     "name": "stdout",
     "output_type": "stream",
     "text": [
      "国旗画像 URL: https://upload.wikimedia.org/wikipedia/commons/8/83/Flag_of_the_United_Kingdom_%283-5%29.svg\n"
     ]
    }
   ],
   "source": [
    "\n",
    "import gzip\n",
    "import json\n",
    "import re\n",
    "import requests\n",
    "\n",
    "# —————————————————————————\n",
    "# 1. 「イギリス」記事から基礎情報テンプレートを取得\n",
    "# —————————————————————————\n",
    "path = 'jawiki-country.json.gz'\n",
    "with gzip.open(path, 'rt', encoding='utf-8') as f:\n",
    "    text = None\n",
    "    for line in f:\n",
    "        dic = json.loads(line)\n",
    "        if dic['title'] == 'イギリス':\n",
    "            text = dic['text']\n",
    "            break\n",
    "if text is None:\n",
    "    raise RuntimeError('「イギリス」記事が見つかりませんでした。')\n",
    "\n",
    "tpl_re = re.compile(r'^\\{\\{基礎情報.+?$(.*?)^\\}\\}$',\n",
    "                    re.MULTILINE | re.DOTALL)\n",
    "m = tpl_re.search(text)\n",
    "tpl_body = m.group(1)\n",
    "\n",
    "fields = dict(re.findall(r'^\\|\\s*(.+?)\\s*=\\s*(.+)$',\n",
    "                         tpl_body, flags=re.MULTILINE))\n",
    "\n",
    "# —————————————————————————\n",
    "# 2. 国旗画像ファイル名を取得\n",
    "#    （例: 'Flag of the United Kingdom.svg'）\n",
    "# —————————————————————————\n",
    "# テンプレート上のキーは環境によって「国旗画像」や「国旗画像ファイル」など異なる場合があります\n",
    "flag_field = '国旗画像'\n",
    "filename = fields.get(flag_field)\n",
    "if not filename:\n",
    "    raise RuntimeError(f'テンプレートに「{flag_field}」が見つかりません。')\n",
    "\n",
    "# 先頭に 'File:' がない場合は付与\n",
    "if not filename.startswith(('File:', 'ファイル:')):\n",
    "    filename = 'File:' + filename\n",
    "\n",
    "# —————————————————————————\n",
    "# 3. MediaWiki API にリクエストして URL を取得\n",
    "# —————————————————————————\n",
    "API_ENDPOINT = 'https://ja.wikipedia.org/w/api.php'\n",
    "params = {\n",
    "    'action': 'query',\n",
    "    'format': 'json',\n",
    "    'titles': filename,\n",
    "    'prop': 'imageinfo',\n",
    "    'iiprop': 'url'\n",
    "}\n",
    "\n",
    "resp = requests.get(API_ENDPOINT, params=params)\n",
    "resp.raise_for_status()\n",
    "data = resp.json()\n",
    "\n",
    "# ページオブジェクトを取り出し、imageinfo の URL を抽出\n",
    "pages = data['query']['pages']\n",
    "page = next(iter(pages.values()))\n",
    "imageinfo = page.get('imageinfo')\n",
    "if not imageinfo:\n",
    "    raise RuntimeError('imageinfo が返ってきませんでした。')\n",
    "\n",
    "image_url = imageinfo[0]['url']\n",
    "print('国旗画像 URL:', image_url)\n"
   ]
  },
  {
   "cell_type": "code",
   "execution_count": null,
   "id": "6b8fbca1",
   "metadata": {},
   "outputs": [],
   "source": []
  },
  {
   "cell_type": "code",
   "execution_count": null,
   "id": "a9be51f9",
   "metadata": {},
   "outputs": [],
   "source": []
  }
 ],
 "metadata": {
  "kernelspec": {
   "display_name": "python-env",
   "language": "python",
   "name": "python3"
  },
  "language_info": {
   "codemirror_mode": {
    "name": "ipython",
    "version": 3
   },
   "file_extension": ".py",
   "mimetype": "text/x-python",
   "name": "python",
   "nbconvert_exporter": "python",
   "pygments_lexer": "ipython3",
   "version": "3.12.5"
  }
 },
 "nbformat": 4,
 "nbformat_minor": 5
}
