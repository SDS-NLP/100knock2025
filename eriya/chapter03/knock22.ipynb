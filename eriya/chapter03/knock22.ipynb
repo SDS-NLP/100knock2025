{
 "cells": [
  {
   "cell_type": "code",
   "execution_count": 3,
   "id": "3aa872a8",
   "metadata": {},
   "outputs": [
    {
     "name": "stdout",
     "output_type": "stream",
     "text": [
      "1801年に成立した国家・領域\n",
      "G8加盟国\n",
      "イギリス\n",
      "イギリス連邦加盟国\n",
      "島国\n",
      "欧州連合加盟国\n",
      "海洋国家\n",
      "現存する君主国\n",
      "英連邦王国\n"
     ]
    }
   ],
   "source": [
    "import gzip\n",
    "import json\n",
    "import re\n",
    "\n",
    "# —————————————————————————\n",
    "# 1. Wikipedia JSON ファイルから「イギリス」記事の本文を取得\n",
    "# —————————————————————————\n",
    "path = 'jawiki-country.json.gz'\n",
    "with gzip.open(path, 'rt', encoding='utf-8') as f:\n",
    "    text = None\n",
    "    for line in f:\n",
    "        article = json.loads(line)\n",
    "        if article['title'] == 'イギリス':\n",
    "            text = article['text']\n",
    "            break\n",
    "\n",
    "if text is None:\n",
    "    raise ValueError('「イギリス」記事が見つかりませんでした。')\n",
    "\n",
    "# —————————————————————————\n",
    "# 2. カテゴリ名を抽出\n",
    "# —————————————————————————\n",
    "# 正規表現パターン：[[Category:名前]] または [[Category:名前|並び順指定]]\n",
    "pattern = r'\\[\\[Category:(.+?)(?:\\|.*)?\\]\\]'\n",
    "\n",
    "# findall でグループをすべて取得\n",
    "categories = re.findall(pattern, text)\n",
    "\n",
    "# 重複除去・ソート\n",
    "unique_categories = sorted(set(categories))\n",
    "\n",
    "# 出力\n",
    "for cat in unique_categories:\n",
    "    print(cat)\n"
   ]
  },
  {
   "cell_type": "code",
   "execution_count": null,
   "id": "8b9c199f",
   "metadata": {},
   "outputs": [],
   "source": []
  }
 ],
 "metadata": {
  "kernelspec": {
   "display_name": "python-env",
   "language": "python",
   "name": "python3"
  },
  "language_info": {
   "codemirror_mode": {
    "name": "ipython",
    "version": 3
   },
   "file_extension": ".py",
   "mimetype": "text/x-python",
   "name": "python",
   "nbconvert_exporter": "python",
   "pygments_lexer": "ipython3",
   "version": "3.12.5"
  }
 },
 "nbformat": 4,
 "nbformat_minor": 5
}
