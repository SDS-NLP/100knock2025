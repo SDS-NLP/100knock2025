{
 "cells": [
  {
   "cell_type": "code",
   "execution_count": 2,
   "id": "0d1ea227",
   "metadata": {},
   "outputs": [
    {
     "name": "stdout",
     "output_type": "stream",
     "text": [
      "2019 Greenwich Peninsula & Canary Wharf.jpg\n",
      "Airbus A380-841 G-XLEB British Airways (10424102995).jpg\n",
      "Anglospeak.svg\n",
      "Battle of Waterloo 1815.PNG\n",
      "BenNevis2005.jpg\n",
      "Birmingham Skyline from Edgbaston Cricket Ground crop.jpg\n",
      "CHANDOS3.jpg\n",
      "City of London skyline from London City Hall - Oct 2008.jpg\n",
      "Descriptio Prime Tabulae Europae.jpg\n",
      "Donald Trump and Theresa May (33998675310) (cropped).jpg\n",
      "Eurostar at St Pancras Jan 2008.jpg\n",
      "Glasgow and the Clyde from the air (geograph 4665720).jpg\n",
      "Heathrow Terminal 5C Iwelumo-1.jpg\n",
      "Leeds CBD at night.jpg\n",
      "Lenepveu, Jeanne d'Arc au siège d'Orléans.jpg\n",
      "London.bankofengland.arp.jpg\n",
      "Oil platform in the North SeaPros.jpg\n",
      "Palace of Westminster, London - Feb 2007.jpg\n",
      "Population density UK 2011 census.png\n",
      "Royal Aberdeen Children's Hospital.jpg\n",
      "Royal Coat of Arms of the United Kingdom.svg\n",
      "Scotland Parliament Holyrood.jpg\n",
      "Soldiers Trooping the Colour, 16th June 2007.jpg\n",
      "The Fabs.JPG\n",
      "UKpop.svg\n",
      "Uk topo en.jpg\n",
      "United States Navy Band - God Save the Queen.ogg\n",
      "Wembley Stadium, illuminated.jpg\n"
     ]
    }
   ],
   "source": [
    "import gzip\n",
    "import json\n",
    "import re\n",
    "\n",
    "# —————————————————————————\n",
    "# 1. Wikipedia JSON ファイルから「イギリス」記事の本文を取得\n",
    "# —————————————————————————\n",
    "path = 'jawiki-country.json.gz'\n",
    "with gzip.open(path, 'rt', encoding='utf-8') as f:\n",
    "    text = None\n",
    "    for line in f:\n",
    "        article = json.loads(line)\n",
    "        if article['title'] == 'イギリス':\n",
    "            text = article['text']\n",
    "            break\n",
    "\n",
    "if text is None:\n",
    "    raise ValueError('「イギリス」記事が見つかりませんでした。')\n",
    "\n",
    "# —————————————————————————\n",
    "# 2. メディアファイル参照の抽出\n",
    "# —————————————————————————\n",
    "# 日本語版では「ファイル:」プレフィックスを使うことが多い\n",
    "pattern = re.compile(r'\\[\\[(?:File|ファイル):(.+?)(?:\\|.*?)*\\]\\]', re.IGNORECASE)\n",
    "\n",
    "# findall でファイル名部分だけをリスト化\n",
    "files = pattern.findall(text)\n",
    "\n",
    "# 重複を除いてソート\n",
    "unique_files = sorted(set(files))\n",
    "\n",
    "# 結果を表示\n",
    "for fname in unique_files:\n",
    "    print(fname)\n"
   ]
  }
 ],
 "metadata": {
  "kernelspec": {
   "display_name": "python-env",
   "language": "python",
   "name": "python3"
  },
  "language_info": {
   "codemirror_mode": {
    "name": "ipython",
    "version": 3
   },
   "file_extension": ".py",
   "mimetype": "text/x-python",
   "name": "python",
   "nbconvert_exporter": "python",
   "pygments_lexer": "ipython3",
   "version": "3.12.5"
  }
 },
 "nbformat": 4,
 "nbformat_minor": 5
}
