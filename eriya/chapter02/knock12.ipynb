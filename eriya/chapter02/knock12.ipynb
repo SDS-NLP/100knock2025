{
 "cells": [
  {
   "cell_type": "code",
   "execution_count": 3,
   "id": "599ed322",
   "metadata": {},
   "outputs": [
    {
     "name": "stdout",
     "output_type": "stream",
     "text": [
      "Liam\tM\t19837\t2018\n",
      "Noah\tM\t18267\t2018\n",
      "William\tM\t14516\t2018\n",
      "James\tM\t13525\t2018\n",
      "Oliver\tM\t13389\t2018\n",
      "Benjamin\tM\t13381\t2018\n",
      "Elijah\tM\t12886\t2018\n",
      "Lucas\tM\t12585\t2018\n",
      "Mason\tM\t12435\t2018\n",
      "Logan\tM\t12352\t2018\n"
     ]
    }
   ],
   "source": [
    "N = 10\n",
    "with open(\"popular-names.txt\", \"r\") as f:\n",
    "    lines = f.readlines()  # ファイル全体を一度だけリストに読み込む\n",
    "\n",
    "for line in lines[-N:]:     # 最後のN行を取り出す\n",
    "    print(line.strip())     # 改行を取り除いて表示\n"
   ]
  },
  {
   "cell_type": "markdown",
   "id": "f936884a",
   "metadata": {},
   "source": [
    "tail popular-names.txt"
   ]
  }
 ],
 "metadata": {
  "kernelspec": {
   "display_name": "python-env",
   "language": "python",
   "name": "python3"
  },
  "language_info": {
   "codemirror_mode": {
    "name": "ipython",
    "version": 3
   },
   "file_extension": ".py",
   "mimetype": "text/x-python",
   "name": "python",
   "nbconvert_exporter": "python",
   "pygments_lexer": "ipython3",
   "version": "3.12.5"
  }
 },
 "nbformat": 4,
 "nbformat_minor": 5
}
