{
 "cells": [
  {
   "cell_type": "code",
   "execution_count": 2,
   "id": "dc3664be",
   "metadata": {},
   "outputs": [
    {
     "name": "stdout",
     "output_type": "stream",
     "text": [
      "Mary\n",
      "Anna\n",
      "Emma\n",
      "Elizabeth\n",
      "Minnie\n",
      "Margaret\n",
      "Ida\n",
      "Alice\n",
      "Bertha\n",
      "Sarah\n"
     ]
    }
   ],
   "source": [
    "N = 10\n",
    "with open(\"popular-names.txt\") as f:\n",
    "    for i in range(N):\n",
    "        line = f.readline()\n",
    "        if not line:\n",
    "            break\n",
    "        line = line.split(\"\\t\")\n",
    "        \n",
    "        print(line[0])"
   ]
  },
  {
   "cell_type": "markdown",
   "id": "4387f784",
   "metadata": {},
   "source": [
    "head -n 10 popular-names.txt | cut -f 1"
   ]
  }
 ],
 "metadata": {
  "kernelspec": {
   "display_name": "python-env",
   "language": "python",
   "name": "python3"
  },
  "language_info": {
   "codemirror_mode": {
    "name": "ipython",
    "version": 3
   },
   "file_extension": ".py",
   "mimetype": "text/x-python",
   "name": "python",
   "nbconvert_exporter": "python",
   "pygments_lexer": "ipython3",
   "version": "3.12.5"
  }
 },
 "nbformat": 4,
 "nbformat_minor": 5
}
