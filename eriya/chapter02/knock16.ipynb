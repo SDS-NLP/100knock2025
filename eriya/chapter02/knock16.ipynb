{
 "cells": [
  {
   "cell_type": "code",
   "execution_count": 2,
   "id": "9d3188f9",
   "metadata": {},
   "outputs": [],
   "source": [
    "import pandas as pd\n",
    "import numpy as np\n",
    "\n",
    "# Load the 3-column tab-separated data\n",
    "data = pd.read_csv('popular-names.txt', sep='\\t', header=None)\n",
    "\n",
    "# Add a 4th column with random numbers\n",
    "data[3] = np.random.rand(len(data))\n",
    "\n",
    "# Sort the rows by the 4th column\n",
    "data = data.sort_values(by=3)\n",
    "\n",
    "# Drop the 4th column\n",
    "data = data.drop(columns=[3])\n",
    "\n",
    "# Save the result back to a file\n",
    "data.to_csv('sorted_data.txt', sep='\\t', index=False, header=False)"
   ]
  },
  {
   "cell_type": "code",
   "execution_count": null,
   "id": "521f480c",
   "metadata": {},
   "outputs": [],
   "source": []
  }
 ],
 "metadata": {
  "kernelspec": {
   "display_name": "python-env",
   "language": "python",
   "name": "python3"
  },
  "language_info": {
   "codemirror_mode": {
    "name": "ipython",
    "version": 3
   },
   "file_extension": ".py",
   "mimetype": "text/x-python",
   "name": "python",
   "nbconvert_exporter": "python",
   "pygments_lexer": "ipython3",
   "version": "3.12.5"
  }
 },
 "nbformat": 4,
 "nbformat_minor": 5
}
