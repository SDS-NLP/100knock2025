{
 "cells": [
  {
   "cell_type": "code",
   "execution_count": 3,
   "id": "7e244ea4",
   "metadata": {},
   "outputs": [
    {
     "name": "stdout",
     "output_type": "stream",
     "text": [
      "Mary\tF\t7065\t1880\n",
      "Anna\tF\t2604\t1880\n",
      "Emma\tF\t2003\t1880\n",
      "Elizabeth\tF\t1939\t1880\n",
      "Minnie\tF\t1746\t1880\n",
      "Margaret\tF\t1578\t1880\n",
      "Ida\tF\t1472\t1880\n",
      "Alice\tF\t1414\t1880\n",
      "Bertha\tF\t1320\t1880\n",
      "Sarah\tF\t1288\t1880\n"
     ]
    }
   ],
   "source": [
    "N = 10\n",
    "with open(\"popular-names.txt\") as f:\n",
    "    for i in range(N):\n",
    "        line = f.readline()\n",
    "        if not line:\n",
    "            break\n",
    "        print(line.strip())"
   ]
  },
  {
   "cell_type": "markdown",
   "id": "b65f0897",
   "metadata": {},
   "source": [
    "head -n 10 popular-names.txt"
   ]
  }
 ],
 "metadata": {
  "kernelspec": {
   "display_name": "python-env",
   "language": "python",
   "name": "python3"
  },
  "language_info": {
   "codemirror_mode": {
    "name": "ipython",
    "version": 3
   },
   "file_extension": ".py",
   "mimetype": "text/x-python",
   "name": "python",
   "nbconvert_exporter": "python",
   "pygments_lexer": "ipython3",
   "version": "3.12.5"
  }
 },
 "nbformat": 4,
 "nbformat_minor": 5
}
