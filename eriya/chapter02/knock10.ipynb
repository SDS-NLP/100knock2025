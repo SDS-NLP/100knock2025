{
 "cells": [
  {
   "cell_type": "code",
   "execution_count": 1,
   "id": "5e9af1fb",
   "metadata": {},
   "outputs": [
    {
     "name": "stdout",
     "output_type": "stream",
     "text": [
      "2780\n"
     ]
    }
   ],
   "source": [
    "count = 0\n",
    "with open(\"popular-names.txt\") as f:\n",
    "    for line in f:\n",
    "        count += 1\n",
    "print(count)\n",
    "# The above code counts the number of lines in the file \"popular-names.txt\"."
   ]
  },
  {
   "cell_type": "markdown",
   "id": "95939fa0",
   "metadata": {},
   "source": [
    "wc -l eriya\\chapter02\\popular-names.txt"
   ]
  }
 ],
 "metadata": {
  "kernelspec": {
   "display_name": "python-env",
   "language": "python",
   "name": "python3"
  },
  "language_info": {
   "codemirror_mode": {
    "name": "ipython",
    "version": 3
   },
   "file_extension": ".py",
   "mimetype": "text/x-python",
   "name": "python",
   "nbconvert_exporter": "python",
   "pygments_lexer": "ipython3",
   "version": "3.12.5"
  }
 },
 "nbformat": 4,
 "nbformat_minor": 5
}
