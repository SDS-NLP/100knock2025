{
 "cells": [
  {
   "cell_type": "code",
   "execution_count": 2,
   "id": "f5590685",
   "metadata": {},
   "outputs": [
    {
     "name": "stdout",
     "output_type": "stream",
     "text": [
      "Mary F 7065 1880\n",
      "Anna F 2604 1880\n",
      "Emma F 2003 1880\n",
      "Elizabeth F 1939 1880\n",
      "Minnie F 1746 1880\n",
      "Margaret F 1578 1880\n",
      "Ida F 1472 1880\n",
      "Alice F 1414 1880\n",
      "Bertha F 1320 1880\n",
      "Sarah F 1288 1880\n"
     ]
    }
   ],
   "source": [
    "N = 10\n",
    "with open(\"popular-names.txt\") as f:\n",
    "    for i in range(N):\n",
    "        line = f.readline()\n",
    "        if not line:\n",
    "            break\n",
    "        line = line.replace(\"\\t\", \" \")\n",
    "        # Remove trailing whitespace and print the line\n",
    "        print(line.strip())"
   ]
  },
  {
   "cell_type": "markdown",
   "id": "3a22cefb",
   "metadata": {},
   "source": [
    "head -n 10 popular-names.txt | sed 's/\\t/ /g'"
   ]
  }
 ],
 "metadata": {
  "kernelspec": {
   "display_name": "python-env",
   "language": "python",
   "name": "python3"
  },
  "language_info": {
   "codemirror_mode": {
    "name": "ipython",
    "version": 3
   },
   "file_extension": ".py",
   "mimetype": "text/x-python",
   "name": "python",
   "nbconvert_exporter": "python",
   "pygments_lexer": "ipython3",
   "version": "3.12.5"
  }
 },
 "nbformat": 4,
 "nbformat_minor": 5
}
