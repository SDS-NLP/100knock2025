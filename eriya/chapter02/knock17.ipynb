{
 "cells": [
  {
   "cell_type": "code",
   "execution_count": null,
   "id": "99f03781",
   "metadata": {},
   "outputs": [
    {
     "ename": "SyntaxError",
     "evalue": "invalid syntax (3495602454.py, line 6)",
     "output_type": "error",
     "traceback": [
      "\u001b[1;36m  Cell \u001b[1;32mIn[1], line 6\u001b[1;36m\u001b[0m\n\u001b[1;33m    l = list[]\u001b[0m\n\u001b[1;37m             ^\u001b[0m\n\u001b[1;31mSyntaxError\u001b[0m\u001b[1;31m:\u001b[0m invalid syntax\n"
     ]
    }
   ],
   "source": [
    "import pandas as pd\n",
    "import numpy as np\n",
    "\n",
    "df = pd.read_csv('popular-names.txt', sep='\\t', header=None)\n",
    "count = int(0)\n",
    "l = []\n",
    "for i in range(len(df.columns)):\n",
    "    if df[i,0] not in l:\n",
    "        l.append(df[i,0])\n",
    "        count += 1\n",
    "print(count)\n"
   ]
  },
  {
   "cell_type": "code",
   "execution_count": 3,
   "id": "4fd43f31",
   "metadata": {},
   "outputs": [
    {
     "name": "stdout",
     "output_type": "stream",
     "text": [
      "136\n"
     ]
    }
   ],
   "source": [
    "import pandas as pd\n",
    "import numpy as np\n",
    "\n",
    "# Importing necessary libraries\n",
    "\n",
    "# Reading the file into a DataFrame\n",
    "df = pd.read_csv('popular-names.txt', sep='\\t', header=None)\n",
    "\n",
    "# Initializing variables\n",
    "count = 0\n",
    "unique_names = []\n",
    "\n",
    "# Iterating through the first column of the DataFrame\n",
    "for name in df[0]:\n",
    "    if name not in unique_names:\n",
    "        unique_names.append(name)\n",
    "        count += 1\n",
    "\n",
    "# Printing the count of unique names\n",
    "print(count)"
   ]
  }
 ],
 "metadata": {
  "kernelspec": {
   "display_name": "python-env",
   "language": "python",
   "name": "python3"
  },
  "language_info": {
   "codemirror_mode": {
    "name": "ipython",
    "version": 3
   },
   "file_extension": ".py",
   "mimetype": "text/x-python",
   "name": "python",
   "nbconvert_exporter": "python",
   "pygments_lexer": "ipython3",
   "version": "3.12.5"
  }
 },
 "nbformat": 4,
 "nbformat_minor": 5
}
