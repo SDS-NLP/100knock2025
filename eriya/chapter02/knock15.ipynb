{
 "cells": [
  {
   "cell_type": "code",
   "execution_count": null,
   "id": "963aa94a",
   "metadata": {},
   "outputs": [],
   "source": [
    "N = 10\n",
    "with open(\"popular-names.txt\", \"r\") as f:\n",
    "    lines = f.readlines()\n",
    "    count = len(lines)\n",
    "    for i in range(N):\n",
    "        lines[i] = \n"
   ]
  },
  {
   "cell_type": "code",
   "execution_count": null,
   "id": "ffe1b8fe",
   "metadata": {},
   "outputs": [],
   "source": [
    "N = 10  # 分割数\n",
    "\n",
    "with open(\"popular-names.txt\", \"r\") as f:\n",
    "    lines = f.readlines()          # 全行を読み込む\n",
    "    count = len(lines)             # 行数を数える\n",
    "    chunk_size = count // N        # 1つの分割ファイルの基本行数\n",
    "    remainder = count % N          # 行数が割り切れないときの余り\n",
    "\n",
    "    start = 0\n",
    "    for i in range(N):\n",
    "        # 最後のいくつかの分割に余りを1行ずつ追加\n",
    "        end = start + chunk_size + (1 if i < remainder else 0)\n",
    "        with open(f\"split_{i + 1}.txt\", \"w\") as out_file:\n",
    "            out_file.writelines(lines[start:end])\n",
    "        start = end\n",
    "    "
   ]
  }
 ],
 "metadata": {
  "kernelspec": {
   "display_name": "python-env",
   "language": "python",
   "name": "python3"
  },
  "language_info": {
   "codemirror_mode": {
    "name": "ipython",
    "version": 3
   },
   "file_extension": ".py",
   "mimetype": "text/x-python",
   "name": "python",
   "nbconvert_exporter": "python",
   "pygments_lexer": "ipython3",
   "version": "3.12.5"
  }
 },
 "nbformat": 4,
 "nbformat_minor": 5
}
