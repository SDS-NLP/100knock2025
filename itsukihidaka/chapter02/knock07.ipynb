{
 "cells": [
  {
   "cell_type": "markdown",
   "metadata": {},
   "source": [
    "1列目の文字列の異なり（文字列の種類）を求めよ。確認にはcut, sort, uniqコマンドを用いよ。"
   ]
  },
  {
   "cell_type": "code",
   "execution_count": 11,
   "metadata": {},
   "outputs": [
    {
     "name": "stdout",
     "output_type": "stream",
     "text": [
      "136\n",
      "['Michelle', 'Christopher', 'Isabella', 'Frank', 'Nicole', 'Dorothy', 'Harry', 'Justin', 'Ashley', 'Benjamin', 'Mary', 'Henry', 'Elizabeth', 'Steven', 'Charles', 'Ruth', 'Sharon', 'Bertha', 'Mildred', 'Brandon', 'Stephanie', 'Tyler', 'Madison', 'Shirley', 'Carolyn', 'Susan', 'Clara', 'Richard', 'Donald', 'Donna', 'Crystal', 'Edward', 'Laura', 'Karen', 'Lori', 'Chloe', 'Sophia', 'William', 'Lucas', 'Nancy', 'Cynthia', 'Jason', 'Doris', 'Deborah', 'Walter', 'Logan', 'Gary', 'Betty', 'Harper', 'Helen', 'Aiden', 'David', 'Sarah', 'Lillian', 'Emily', 'Jessica', 'Nicholas', 'Thomas', 'Michael', 'Samantha', 'Lauren', 'George', 'Rachel', 'Jennifer', 'Barbara', 'Bessie', 'Amy', 'Pamela', 'Joshua', 'Amelia', 'Joan', 'Austin', 'Noah', 'Amanda', 'Minnie', 'Alexis', 'Hannah', 'Annie', 'Ethan', 'Angela', 'Elijah', 'Florence', 'Ava', 'Alice', 'Linda', 'Julie', 'Matthew', 'Robert', 'Jacob', 'Alexander', 'Virginia', 'Liam', 'Kimberly', 'Debra', 'Ida', 'Patricia', 'Brian', 'Joseph', 'Anna', 'Rebecca', 'Anthony', 'Mark', 'Olivia', 'Jayden', 'Kelly', 'Taylor', 'Marie', 'Abigail', 'Melissa', 'Andrew', 'Margaret', 'Ronald', 'Frances', 'Lisa', 'Scott', 'Charlotte', 'Tracy', 'Megan', 'Jeffrey', 'Emma', 'Oliver', 'Larry', 'Sandra', 'Brittany', 'Heather', 'Mia', 'Judith', 'Tammy', 'Kathleen', 'James', 'John', 'Evelyn', 'Mason', 'Daniel', 'Ethel', 'Carol']\n"
     ]
    }
   ],
   "source": [
    "with open('popular-names.txt', 'r') as f:\n",
    "    lines = f.readlines()\n",
    "    \n",
    "first_lines =[line.split('\\t')[0] for line in lines]\n",
    "names  = list(set(first_lines))\n",
    "print(len(names))\n",
    "print(names)"
   ]
  },
  {
   "cell_type": "code",
   "execution_count": 13,
   "metadata": {},
   "outputs": [
    {
     "name": "stdout",
     "output_type": "stream",
     "text": [
      "     136\n"
     ]
    }
   ],
   "source": [
    "!cut -f 1 popular-names.txt | sort | uniq -c | wc -l"
   ]
  }
 ],
 "metadata": {
  "kernelspec": {
   "display_name": "Python 3",
   "language": "python",
   "name": "python3"
  },
  "language_info": {
   "codemirror_mode": {
    "name": "ipython",
    "version": 3
   },
   "file_extension": ".py",
   "mimetype": "text/x-python",
   "name": "python",
   "nbconvert_exporter": "python",
   "pygments_lexer": "ipython3",
   "version": "3.12.9"
  }
 },
 "nbformat": 4,
 "nbformat_minor": 2
}
