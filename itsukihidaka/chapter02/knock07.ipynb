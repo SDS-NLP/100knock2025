{
 "cells": [
  {
   "cell_type": "markdown",
   "metadata": {},
   "source": [
    "1列目の文字列の異なり（文字列の種類）を求めよ。確認にはcut, sort, uniqコマンドを用いよ。"
   ]
  },
  {
   "cell_type": "code",
   "execution_count": 28,
   "metadata": {},
   "outputs": [
    {
     "name": "stdout",
     "output_type": "stream",
     "text": [
      "136\n",
      "['Jeffrey', 'James', 'Austin', 'Crystal', 'Thomas', 'Julie', 'Hannah', 'Ava', 'Gary', 'Melissa', 'Frances', 'Jennifer', 'Harry', 'Megan', 'Mary', 'David', 'Brittany', 'Margaret', 'Matthew', 'Sophia', 'Larry', 'Laura', 'Justin', 'Richard', 'Virginia', 'Stephanie', 'Benjamin', 'Judith', 'Ethel', 'Carolyn', 'Anthony', 'Lucas', 'Linda', 'Evelyn', 'Lillian', 'Andrew', 'Chloe', 'Marie', 'Emma', 'Bessie', 'Angela', 'Alice', 'Nancy', 'Rebecca', 'Pamela', 'Anna', 'Taylor', 'Michelle', 'Joshua', 'George', 'Betty', 'Ida', 'Kimberly', 'Karen', 'Tammy', 'Amanda', 'Mildred', 'Shirley', 'Steven', 'Sarah', 'Charlotte', 'Ruth', 'Florence', 'Jessica', 'Dorothy', 'Aiden', 'Samantha', 'Mia', 'Sharon', 'Ashley', 'Michael', 'Noah', 'Jayden', 'Mason', 'Oliver', 'Charles', 'Donna', 'Alexander', 'Isabella', 'Helen', 'Elijah', 'Nicholas', 'Mark', 'Robert', 'Ethan', 'Sandra', 'Annie', 'Lauren', 'Bertha', 'Kathleen', 'Doris', 'Christopher', 'Edward', 'Henry', 'Susan', 'Deborah', 'Alexis', 'Jacob', 'Harper', 'Frank', 'Patricia', 'Madison', 'Amelia', 'Debra', 'Jason', 'Kelly', 'Emily', 'Barbara', 'Nicole', 'John', 'Walter', 'Olivia', 'Carol', 'Logan', 'Tracy', 'Scott', 'Minnie', 'Donald', 'Heather', 'Brandon', 'Elizabeth', 'Lori', 'Liam', 'Clara', 'Brian', 'Joan', 'Amy', 'Abigail', 'Lisa', 'Tyler', 'William', 'Rachel', 'Joseph', 'Cynthia', 'Ronald', 'Daniel']\n"
     ]
    }
   ],
   "source": [
    "with open('popular-names.txt', 'r') as f:\n",
    "    lines = f.readlines()\n",
    "    \n",
    "first_lines =[line.split('\\t')[0] for line in lines]\n",
    "names  = list(set(first_lines))\n",
    "print(len(names))\n",
    "print(names)"
   ]
  },
  {
   "cell_type": "code",
   "execution_count": 27,
   "metadata": {},
   "outputs": [
    {
     "name": "stdout",
     "output_type": "stream",
     "text": [
      "     136\n"
     ]
    }
   ],
   "source": [
    "!cut -f 1 popular-names.txt | sort | uniq -c | wc -l"
   ]
  }
 ],
 "metadata": {
  "kernelspec": {
   "display_name": "Python 3",
   "language": "python",
   "name": "python3"
  },
  "language_info": {
   "codemirror_mode": {
    "name": "ipython",
    "version": 3
   },
   "file_extension": ".py",
   "mimetype": "text/x-python",
   "name": "python",
   "nbconvert_exporter": "python",
   "pygments_lexer": "ipython3",
   "version": "3.12.9"
  }
 },
 "nbformat": 4,
 "nbformat_minor": 2
}
