{
 "cells": [
  {
   "cell_type": "markdown",
   "metadata": {},
   "source": [
    "ファイルを行単位でN分割し、別のファイルに格納せよ。例えば、N=10としてファイルを10分割せよ。同様の処理をsplitコマンドで実現せよ。"
   ]
  },
  {
   "cell_type": "code",
   "execution_count": 10,
   "metadata": {},
   "outputs": [
    {
     "name": "stdout",
     "output_type": "stream",
     "text": [
      "popular-names.txtを10分割し、split_filesディレクトリに保存しました。\n"
     ]
    }
   ],
   "source": [
    "import os\n",
    "\n",
    "# 分割数\n",
    "N = 10\n",
    "\n",
    "# 入力ファイルのパス\n",
    "input_file = 'popular-names.txt'\n",
    "\n",
    "# 出力ディレクトリの作成（存在しない場合）\n",
    "output_dir = 'split_files'\n",
    "os.makedirs(output_dir, exist_ok=True)\n",
    "\n",
    "# ファイルの総行数を取得\n",
    "with open(input_file, 'r') as f:\n",
    "    lines = f.readlines()\n",
    "    total_lines = len(lines)\n",
    "\n",
    "lines_per_file = 278\n",
    "\n",
    "# ファイルを分割して保存\n",
    "for i in range(N):\n",
    "    start_idx = i * lines_per_file\n",
    "    end_idx = min((i + 1) * lines_per_file, total_lines)\n",
    "    \n",
    "    # 分割ファイルの名前\n",
    "    output_file = os.path.join(output_dir, f'split_{i+1}.txt')\n",
    "    \n",
    "    # 分割ファイルに書き込み\n",
    "    with open(output_file, 'w') as f:\n",
    "        f.writelines(lines[start_idx:end_idx])\n",
    "\n",
    "print(f'{input_file}を{N}分割し、{output_dir}ディレクトリに保存しました。')\n"
   ]
  },
  {
   "cell_type": "code",
   "execution_count": 9,
   "metadata": {},
   "outputs": [],
   "source": [
    "!split -l 278 popular-names.txt split_file_command/split_out_ "
   ]
  }
 ],
 "metadata": {
  "kernelspec": {
   "display_name": "Python 3",
   "language": "python",
   "name": "python3"
  },
  "language_info": {
   "codemirror_mode": {
    "name": "ipython",
    "version": 3
   },
   "file_extension": ".py",
   "mimetype": "text/x-python",
   "name": "python",
   "nbconvert_exporter": "python",
   "pygments_lexer": "ipython3",
   "version": "3.12.9"
  }
 },
 "nbformat": 4,
 "nbformat_minor": 2
}
